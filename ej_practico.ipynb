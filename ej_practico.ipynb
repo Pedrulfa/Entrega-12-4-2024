{
 "cells": [
  {
   "cell_type": "markdown",
   "metadata": {},
   "source": [
    "## Trabajo practico 2"
   ]
  },
  {
   "cell_type": "markdown",
   "metadata": {},
   "source": [
    "#### Importando funciones"
   ]
  },
  {
   "cell_type": "code",
   "execution_count": 4,
   "metadata": {},
   "outputs": [],
   "source": [
    "import Modulo"
   ]
  },
  {
   "cell_type": "markdown",
   "metadata": {},
   "source": [
    "#### 1: Genero una estructura de tipo diccionario con los datos de cada jugador"
   ]
  },
  {
   "cell_type": "code",
   "execution_count": 5,
   "metadata": {},
   "outputs": [
    {
     "data": {
      "text/plain": [
       "{'AGUSTIN': [0, 0, 0],\n",
       " 'YANINA': [10, 2, 5],\n",
       " 'ANDRÉS': [4, 0, 1],\n",
       " 'ARIADNA': [0, 0, 0],\n",
       " 'BAUTISTA': [5, 5, 5],\n",
       " 'CAROLINA': [14, 2, 2],\n",
       " 'CESAR': [0, 0, 0],\n",
       " 'DAVID': [0, 0, 0],\n",
       " 'DIEGO': [7, 1, 1],\n",
       " 'DOLORES': [2, 2, 2],\n",
       " 'DYLAN': [1, 0, 1],\n",
       " 'ELIANA': [1, 5, 5],\n",
       " 'EMANUEL': [1, 5, 5],\n",
       " 'FABIÁN': [5, 0, 0],\n",
       " 'NOELIA': [6, 1, 1],\n",
       " 'FRANCSICA': [1, 0, 0],\n",
       " 'FEDERICO': [1, 2, 2],\n",
       " 'FERNANDA': [2, 3, 3],\n",
       " 'GONZALO': [0, 0, 1],\n",
       " 'NANCY ': [11, 0, 0]}"
      ]
     },
     "execution_count": 5,
     "metadata": {},
     "output_type": "execute_result"
    }
   ],
   "source": [
    "names = \"\"\"Agustin, Yanina, Andrés, Ariadna, Bautista, CAROLINA, CESAR, David, Diego, Dolores, DYLAN, ELIANA, Emanuel, Fabián, Noelia, Francsica, FEDERICO, Fernanda, GONZALO, Nancy \"\"\"\n",
    "names = names.upper()\n",
    "names = names.split(\", \")\n",
    "\n",
    "goals = [0, 10, 4, 0, 5, 14, 0, 0, 7, 2, 1, 1, 1, 5, 6, 1, 1, 2, 0, 11]\n",
    "goals_avoided = [0, 2, 0, 0, 5, 2, 0, 0, 1, 2, 0, 5, 5, 0, 1, 0, 2, 3, 0, 0]\n",
    "assists = [0, 5, 1, 0, 5, 2, 0, 0, 1, 2, 1, 5, 5, 0, 1, 0, 2, 3, 1, 0]\n",
    "\n",
    "\n",
    "dic = {}\n",
    "Modulo.crear_Estructura(names,goals,goals_avoided,assists,dic)\n",
    "\n",
    "dic"
   ]
  },
  {
   "cell_type": "markdown",
   "metadata": {},
   "source": [
    "#### 2: Devuelve el nombre del jugador y sus goles"
   ]
  },
  {
   "cell_type": "code",
   "execution_count": 6,
   "metadata": {},
   "outputs": [
    {
     "name": "stdout",
     "output_type": "stream",
     "text": [
      "Jugador: DAVID Goles: 0\n"
     ]
    }
   ],
   "source": [
    "nombre = input(\"Ingrese el nombre del jugador\")\n",
    "Modulo.conocer_Jugador(nombre,dic)"
   ]
  },
  {
   "cell_type": "markdown",
   "metadata": {},
   "source": [
    "#### 3: Devuelve el jugador mas influyente"
   ]
  },
  {
   "cell_type": "code",
   "execution_count": 7,
   "metadata": {},
   "outputs": [
    {
     "name": "stdout",
     "output_type": "stream",
     "text": [
      "CAROLINA\n"
     ]
    }
   ],
   "source": [
    "print(Modulo.jugador_mas_influyente(dic))"
   ]
  },
  {
   "cell_type": "markdown",
   "metadata": {},
   "source": [
    "#### 4: Devuelve el promedio de goles de la temporada del equipo en general"
   ]
  },
  {
   "cell_type": "code",
   "execution_count": 8,
   "metadata": {},
   "outputs": [
    {
     "name": "stdout",
     "output_type": "stream",
     "text": [
      "2.84\n"
     ]
    }
   ],
   "source": [
    "print(Modulo.promedio_goles_equipo(dic))"
   ]
  },
  {
   "cell_type": "markdown",
   "metadata": {},
   "source": [
    "#### 5: Devuelve el promedio de un jugador recibido por teclado"
   ]
  },
  {
   "cell_type": "code",
   "execution_count": 9,
   "metadata": {},
   "outputs": [
    {
     "name": "stdout",
     "output_type": "stream",
     "text": [
      "0.0\n"
     ]
    }
   ],
   "source": [
    "nombre= input(\"Ingrese el nombre del jugador\")\n",
    "print (Modulo.promedio_goles_jugador(nombre,dic))"
   ]
  }
 ],
 "metadata": {
  "kernelspec": {
   "display_name": "venv",
   "language": "python",
   "name": "python3"
  },
  "language_info": {
   "codemirror_mode": {
    "name": "ipython",
    "version": 3
   },
   "file_extension": ".py",
   "mimetype": "text/x-python",
   "name": "python",
   "nbconvert_exporter": "python",
   "pygments_lexer": "ipython3",
   "version": "3.11.7"
  }
 },
 "nbformat": 4,
 "nbformat_minor": 2
}
